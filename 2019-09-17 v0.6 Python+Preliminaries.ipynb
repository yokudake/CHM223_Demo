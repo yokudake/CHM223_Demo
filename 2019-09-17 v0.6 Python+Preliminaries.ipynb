{
 "cells": [
  {
   "cell_type": "markdown",
   "metadata": {},
   "source": [
    "# Python is a high-level scripting language that's easily readable and has a strong set of useful science modules.  Here we'll learn a few of the basics we'll need for computational assignments. <BR> DOUBLE-CLICK A CELL AND PRESS SHIFT+ENTER TO RUN THE CODE IN THE CELL <br>\n",
    "<br>\n",
    "This is not a comprehensive list of Python syntax, refer to the [DOCUMENTATION ](https://docs.python.org/3/tutorial/index.html)for more info.\n",
    "For NumPy, see: [https://docs.scipy.org/doc/numpy/user/](https://docs.scipy.org/doc/numpy/user/)"
   ]
  },
  {
   "cell_type": "markdown",
   "metadata": {},
   "source": [
    "## Python syntax for arithmetic: <br>\n",
    "Addition + <br>\n",
    "Subtraction: - <br>\n",
    "Multiplication: \\* <br>\n",
    "Division: / <br>\n",
    "Exponentiation: \\** <br>\n"
   ]
  },
  {
   "cell_type": "code",
   "execution_count": null,
   "metadata": {},
   "outputs": [],
   "source": [
    "4+5"
   ]
  },
  {
   "cell_type": "code",
   "execution_count": null,
   "metadata": {},
   "outputs": [],
   "source": [
    "4/5"
   ]
  },
  {
   "cell_type": "code",
   "execution_count": null,
   "metadata": {},
   "outputs": [],
   "source": [
    "4**5"
   ]
  },
  {
   "cell_type": "markdown",
   "metadata": {
    "slideshow": {
     "slide_type": "-"
    }
   },
   "source": [
    "Python (and other programming languages) store information in **variables**.  Variables can contain different types of information, including but not limited to: numbers, words (strings), lists, and arrays.  Storing information in a variable  is referred to as assigning the variable.  Below is an example (make sure you double click the cell below, and press Shift+Enter to run the code):"
   ]
  },
  {
   "cell_type": "code",
   "execution_count": null,
   "metadata": {},
   "outputs": [],
   "source": [
    "x=5\n",
    "y=\"Alice\"\n",
    "z=[1,1,2,3,5,8,13]"
   ]
  },
  {
   "cell_type": "markdown",
   "metadata": {},
   "source": [
    "Here, we have **assigned** variables x, y, and z to the number 5, the string \"Alice\" and a list containing the Fibonacci sequence.  At any time, you may view what a variable contains by typing its name and hitting *Shift+Enter*.  Try it yourself below:"
   ]
  },
  {
   "cell_type": "code",
   "execution_count": null,
   "metadata": {},
   "outputs": [],
   "source": [
    "x #Press Shift+Enter after typing x"
   ]
  },
  {
   "cell_type": "code",
   "execution_count": null,
   "metadata": {},
   "outputs": [],
   "source": [
    "y"
   ]
  },
  {
   "cell_type": "code",
   "execution_count": null,
   "metadata": {},
   "outputs": [],
   "source": [
    "z"
   ]
  },
  {
   "cell_type": "markdown",
   "metadata": {
    "collapsed": true
   },
   "source": [
    "### We can define **functions** which allow us to perform various operations on variables.  Below, we define a function that squares a number, and adds 3.  The syntax below applies for all function definitions."
   ]
  },
  {
   "cell_type": "code",
   "execution_count": null,
   "metadata": {},
   "outputs": [],
   "source": [
    "def f(x):\n",
    "    return (x**2)+3  #Notice, exponentiation in Python is accomplished by \"**\", NOT \"^\""
   ]
  },
  {
   "cell_type": "markdown",
   "metadata": {},
   "source": [
    "### Pay close to attention to the syntax:  The name of the function (here **f**) is followed in parantheses by the arguments the function takes (here a single value, x).  The next line is indented (4 spaces, or a tab) and the first word is 'return' and then the actual functional form.\n",
    "### Below, try defining a function that takes two arguments (say x and y) and multiplies them together"
   ]
  },
  {
   "cell_type": "code",
   "execution_count": null,
   "metadata": {},
   "outputs": [],
   "source": [
    "def g(x,y):\n",
    "    return x*y"
   ]
  },
  {
   "cell_type": "markdown",
   "metadata": {},
   "source": [
    "### We have many useful modules that make our lives much easier when programming.  We will explore a few below."
   ]
  },
  {
   "cell_type": "markdown",
   "metadata": {},
   "source": [
    "#### NumPy (NumericalPython) allows us to conveniently create arrays, a list of numbers that are regularly spaced.  Before we can use any of the constructs in NumPy, we first need to tell our program to import NumPy:"
   ]
  },
  {
   "cell_type": "code",
   "execution_count": null,
   "metadata": {},
   "outputs": [],
   "source": [
    "import numpy as np # We are telling the program to access the NumPy module, and call it \"np\", because typing numpy everytime is a pain"
   ]
  },
  {
   "cell_type": "markdown",
   "metadata": {},
   "source": [
    "#### We now create an array using NumPy and assign it to variable \"array1\".  Variable names must begin with letters, and can be lower/upper/mixed case.  The syntax is: np.arange(starting point, ending point, step size)"
   ]
  },
  {
   "cell_type": "code",
   "execution_count": null,
   "metadata": {},
   "outputs": [],
   "source": [
    "array1=np.arange(0,10,1) #create a NumPy array starting at 0, ending at 10, in steps of 1"
   ]
  },
  {
   "cell_type": "code",
   "execution_count": 1,
   "metadata": {
    "collapsed": true
   },
   "outputs": [
    {
     "ename": "NameError",
     "evalue": "name 'array1' is not defined",
     "output_type": "error",
     "traceback": [
      "\u001b[1;31m---------------------------------------------------------------------------\u001b[0m",
      "\u001b[1;31mNameError\u001b[0m                                 Traceback (most recent call last)",
      "\u001b[1;32m<ipython-input-1-5833c12d41dd>\u001b[0m in \u001b[0;36m<module>\u001b[1;34m()\u001b[0m\n\u001b[0;32m      1\u001b[0m \u001b[1;31m#Lets check and make sure we got what we expected\u001b[0m\u001b[1;33m\u001b[0m\u001b[1;33m\u001b[0m\u001b[0m\n\u001b[1;32m----> 2\u001b[1;33m \u001b[0marray1\u001b[0m\u001b[1;33m\u001b[0m\u001b[0m\n\u001b[0m",
      "\u001b[1;31mNameError\u001b[0m: name 'array1' is not defined"
     ]
    }
   ],
   "source": [
    "#Lets check and make sure we got what we expected\n",
    "array1"
   ]
  },
  {
   "cell_type": "markdown",
   "metadata": {},
   "source": [
    "Notice, though we have 10 elements, the array stops at 9 and not 10.  In Python, the last element is not included."
   ]
  },
  {
   "cell_type": "markdown",
   "metadata": {},
   "source": [
    "#### We can select elements of our array by referring to them by their index, or place in the array.  NOTE: Python is 0-indexed meaning the first element of an array (or list) is indexed by 0:"
   ]
  },
  {
   "cell_type": "code",
   "execution_count": null,
   "metadata": {},
   "outputs": [],
   "source": [
    "array1[0]"
   ]
  },
  {
   "cell_type": "code",
   "execution_count": null,
   "metadata": {},
   "outputs": [],
   "source": [
    "array1[4]"
   ]
  },
  {
   "cell_type": "markdown",
   "metadata": {},
   "source": [
    "#### So, to access one particular element of an array, we write the name of the array-containing variable and square brackets with the element's index."
   ]
  },
  {
   "cell_type": "markdown",
   "metadata": {},
   "source": [
    "##### Python also has its own built-in lists, but they are rather cumbersome and don't have as much function as NumPy arrays, however in case you need to use them, here's how we populate a list.  List elements can be accessed the same was as NumPy arrays:"
   ]
  },
  {
   "cell_type": "code",
   "execution_count": null,
   "metadata": {},
   "outputs": [],
   "source": [
    "my_list=[0,1,2,3,4,5,6,7,8,9] #This had to be typed manually\n",
    "my_list[5]"
   ]
  },
  {
   "cell_type": "markdown",
   "metadata": {},
   "source": [
    "#### Notice I had to type out each element in \"my_list\" whereas with the NumPy array, I only had to indicate start, stop, and step"
   ]
  },
  {
   "cell_type": "markdown",
   "metadata": {},
   "source": [
    "#### So, to put this all together, lets create an array of the first 100 non-negative integers, write a function that cubes them, and save that output into a new variable"
   ]
  },
  {
   "cell_type": "code",
   "execution_count": null,
   "metadata": {},
   "outputs": [],
   "source": [
    "array2=np.arange(0,100,1) #Create our array of the first 100 integers, we call it array2\n",
    "def cuber(x):  #Define a function, called cuber, that takes a single argument (the number we wish to cube) and return its cube\n",
    "    return x**3\n",
    "cubed_array=cuber(array2) #Here, we assign the array of cubed numbers (cubed_array) to the output of our function"
   ]
  },
  {
   "cell_type": "code",
   "execution_count": null,
   "metadata": {},
   "outputs": [],
   "source": [
    "cubed_array #Make sure we got what we expected"
   ]
  },
  {
   "cell_type": "markdown",
   "metadata": {},
   "source": [
    "#### Now, let's plot the original array against the new, cubed array we generated using our cuber function.  This is the next important thing about Python.  It allows us to generate plots programtically with a lot of flexibility."
   ]
  },
  {
   "cell_type": "code",
   "execution_count": null,
   "metadata": {},
   "outputs": [],
   "source": [
    "from matplotlib import pyplot as plt #Again, we need to tell our program to import the plotting module\n",
    "#We import from matplotlib pyplot, the main plotting module, and call it \"plt\" as this is easier to type."
   ]
  },
  {
   "cell_type": "markdown",
   "metadata": {},
   "source": [
    "#### Now, we generate the plot of our first 100 integers versus their cube:"
   ]
  },
  {
   "cell_type": "code",
   "execution_count": null,
   "metadata": {},
   "outputs": [],
   "source": [
    "plt.plot(array2,cubed_array)\n",
    "plt.show()"
   ]
  },
  {
   "cell_type": "markdown",
   "metadata": {},
   "source": [
    "#### Notice the syntax, again we are asking the program to look at the \"plt\" module, and from it use the plot function.\n",
    "#### The plot function takes arguments (x_values, y_values).  The plt.show() after is necessary for the program to show us the plot"
   ]
  },
  {
   "cell_type": "markdown",
   "metadata": {},
   "source": [
    "#### We can label the plot if we wish, using the following syntax:"
   ]
  },
  {
   "cell_type": "code",
   "execution_count": null,
   "metadata": {},
   "outputs": [],
   "source": [
    "plt.plot(array2,cubed_array) #Generate plot\n",
    "plt.xlabel(\"First 100 integers\",size=26) #Label the x-axis, and set the size of the font to 26.  Arguments are separated by commas\n",
    "plt.ylabel(\"Their cube\",size=26) #Label the y-axis\n",
    "plt.show()  #Always need this AFTER we are done modifying the plot"
   ]
  },
  {
   "cell_type": "markdown",
   "metadata": {
    "collapsed": true
   },
   "source": [
    "#### Python is also useful for integration and differentiation.  While it's a little tricky to do analytically, we can get arbitrarily close results numerically and have an idea of the error.  Below, we will define a function and integrate it between 2 bounds.  Try integrating the function by hand, this is clearly a trivial function to do analytically, but as we'll see, numerical integration is powerful when we're dealing with functions that are difficult to integrate.  Run the code in the cell below."
   ]
  },
  {
   "cell_type": "code",
   "execution_count": 2,
   "metadata": {
    "collapsed": true
   },
   "outputs": [
    {
     "data": {
      "text/plain": [
       "(0.33333333333333337, 3.700743415417189e-15)"
      ]
     },
     "execution_count": 2,
     "metadata": {},
     "output_type": "execute_result"
    }
   ],
   "source": [
    "import scipy.integrate #Import the module for numerical integration\n",
    "def square(x,a,b): #Define the function which we wish to integrate\n",
    "    return a*(x**2)+b\n",
    "\n",
    "result=scipy.integrate.quad(square,0,1,args=(2,3)) #This line does the actual integration, using the quadrature method.  The first argument\n",
    "# is the function to be integrated, the second is the lower bound, and the third is the upper bound.\n",
    "#Here, we assign the value of the integral to the variable 'result'\n",
    "#Notice a 4th argument, \"args=(2,3)\".  We use this to tell the scipy.integrate.quad function to integrate our function\n",
    "#in the particular case of a=2, b=3.  These can be changed to whatever values we need to compute the integral for.\n",
    "result #Next, we display the value of 'result'.  Notice we get a second number, which is the error in the result."
   ]
  },
  {
   "cell_type": "code",
   "execution_count": null,
   "metadata": {},
   "outputs": [],
   "source": []
  }
 ],
 "metadata": {
  "celltoolbar": "Raw Cell Format",
  "kernelspec": {
   "display_name": "Python 3",
   "language": "python",
   "name": "python3"
  },
  "language_info": {
   "codemirror_mode": {
    "name": "ipython",
    "version": 3
   },
   "file_extension": ".py",
   "mimetype": "text/x-python",
   "name": "python",
   "nbconvert_exporter": "python",
   "pygments_lexer": "ipython3",
   "version": "3.6.4"
  }
 },
 "nbformat": 4,
 "nbformat_minor": 2
}
